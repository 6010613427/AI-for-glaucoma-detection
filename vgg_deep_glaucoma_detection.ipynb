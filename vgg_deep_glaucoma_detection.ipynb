{
  "nbformat": 4,
  "nbformat_minor": 0,
  "metadata": {
    "colab": {
      "name": "vgg_deep_glaucoma_detection.ipynb",
      "provenance": [],
      "collapsed_sections": []
    },
    "kernelspec": {
      "name": "python3",
      "display_name": "Python 3"
    },
    "language_info": {
      "name": "python"
    }
  },
  "cells": [
    {
      "cell_type": "code",
      "metadata": {
        "colab": {
          "base_uri": "https://localhost:8080/"
        },
        "id": "E-WO_Sq1Qy_e",
        "outputId": "20f8f3ea-8421-48b7-cded-8a80c374195b"
      },
      "source": [
        "from google.colab import drive\n",
        "drive.mount('/content/drive')"
      ],
      "execution_count": null,
      "outputs": [
        {
          "output_type": "stream",
          "text": [
            "Mounted at /content/drive\n"
          ],
          "name": "stdout"
        }
      ]
    },
    {
      "cell_type": "code",
      "metadata": {
        "colab": {
          "base_uri": "https://localhost:8080/"
        },
        "id": "B-cLd4ccNj92",
        "outputId": "4bd4ccb4-fd42-49be-979c-40bf311fd9d3"
      },
      "source": [
        "!nvidia-smi"
      ],
      "execution_count": null,
      "outputs": [
        {
          "output_type": "stream",
          "text": [
            "Sat May 15 18:13:46 2021       \n",
            "+-----------------------------------------------------------------------------+\n",
            "| NVIDIA-SMI 465.19.01    Driver Version: 460.32.03    CUDA Version: 11.2     |\n",
            "|-------------------------------+----------------------+----------------------+\n",
            "| GPU  Name        Persistence-M| Bus-Id        Disp.A | Volatile Uncorr. ECC |\n",
            "| Fan  Temp  Perf  Pwr:Usage/Cap|         Memory-Usage | GPU-Util  Compute M. |\n",
            "|                               |                      |               MIG M. |\n",
            "|===============================+======================+======================|\n",
            "|   0  Tesla T4            Off  | 00000000:00:04.0 Off |                    0 |\n",
            "| N/A   45C    P8     9W /  70W |      0MiB / 15109MiB |      0%      Default |\n",
            "|                               |                      |                  N/A |\n",
            "+-------------------------------+----------------------+----------------------+\n",
            "                                                                               \n",
            "+-----------------------------------------------------------------------------+\n",
            "| Processes:                                                                  |\n",
            "|  GPU   GI   CI        PID   Type   Process name                  GPU Memory |\n",
            "|        ID   ID                                                   Usage      |\n",
            "|=============================================================================|\n",
            "|  No running processes found                                                 |\n",
            "+-----------------------------------------------------------------------------+\n"
          ],
          "name": "stdout"
        }
      ]
    },
    {
      "cell_type": "code",
      "metadata": {
        "id": "pTOoVGfOQ4Ww"
      },
      "source": [
        "import matplotlib.pyplot as plt\n",
        "import numpy as np\n",
        "%matplotlib inline \n",
        "%matplotlib notebook\n",
        "import sklearn\n",
        "import skimage\n",
        "from sklearn import svm, metrics, datasets\n",
        "from sklearn.utils import Bunch\n",
        "from sklearn.model_selection import GridSearchCV, train_test_split\n",
        "from sklearn.linear_model import LogisticRegression\n",
        "from skimage.feature import hog\n",
        "\n",
        "import os\n",
        "import pylab\n",
        "from scipy import ndimage, misc\n",
        "import cv2\n",
        "import pickle\n",
        "\n",
        "from sklearn.svm import SVC\n",
        "from sklearn.metrics import accuracy_score\n",
        "# from sklearn.metrics import plot_confusion_matrix\n",
        "from sklearn.metrics import roc_curve, roc_auc_score, auc\n",
        "\n",
        "import tensorflow as tf\n",
        "from tensorflow import keras\n",
        "from tensorflow.keras.applications import VGG16, DenseNet121\n",
        "from tensorflow.keras.layers import AveragePooling2D\n",
        "from tensorflow.keras.layers import GlobalAveragePooling2D\n",
        "from tensorflow.keras.layers import Dropout\n",
        "from tensorflow.keras.layers import Flatten\n",
        "from tensorflow.keras.layers import Dense\n",
        "from tensorflow.keras.layers import Input\n",
        "from tensorflow.keras.models import Model\n",
        "from tensorflow.keras.optimizers import Adam"
      ],
      "execution_count": null,
      "outputs": []
    },
    {
      "cell_type": "code",
      "metadata": {
        "id": "tjGgIgCnQ7IJ"
      },
      "source": [
        "dataset_path1 = \"/content/drive/MyDrive/Ai/Dataset/\"\n",
        "test_path = \"/content/drive/MyDrive/Ai/Testset/\"\n",
        "model_path = \"/content/drive/MyDrive/Ai/ModelDeep/R5/\"\n",
        "labels_dict = {'Glaucoma':0, 'Normal':1, 'Others':2}\n",
        "number = 120"
      ],
      "execution_count": null,
      "outputs": []
    },
    {
      "cell_type": "code",
      "metadata": {
        "id": "QpKks63hG3oZ"
      },
      "source": [
        "import cv2 as cv\n",
        "import numpy as ppool\n",
        "def normallize(img):\n",
        "  norm = ppool.zeros((800,800))\n",
        "  final = cv.normalize(img,  norm, 0, 255, cv.NORM_MINMAX)\n",
        "  return final"
      ],
      "execution_count": null,
      "outputs": []
    },
    {
      "cell_type": "code",
      "metadata": {
        "id": "ZYekezx1RHe0"
      },
      "source": [
        "def clahe(img_in):\n",
        "  lab = cv2.cvtColor(img_in,cv2.COLOR_RGB2LAB)\n",
        "  L, A, B = cv2.split(lab)\n",
        "  clahe = cv2.createCLAHE(clipLimit=4.0, tileGridSize=(8,8))\n",
        "  L2 = clahe.apply(L)\n",
        "  lab = cv2.merge((L2,A,B))\n",
        "  im_clahe = cv2.cvtColor(lab, cv2.COLOR_LAB2RGB)\n",
        "  return im_clahe\n"
      ],
      "execution_count": null,
      "outputs": []
    },
    {
      "cell_type": "code",
      "metadata": {
        "id": "V0dKO7TGRJoQ"
      },
      "source": [
        "def get_test():\n",
        "  test = []\n",
        "  test_label = []\n",
        "  tagname_file = os.listdir(test_path)\n",
        "  for j,tagname in enumerate(tagname_file):\n",
        "    image_file = os.listdir(test_path +tagname + '/')\n",
        "    for j,img in enumerate(image_file):\n",
        "      im = cv2.imread(test_path + tagname + '/' + img)\n",
        "      im_rgb = cv2.cvtColor(im,cv2.COLOR_BGR2RGB)\n",
        "      im_rgb = np.array(im_rgb)\n",
        "\n",
        "      # Feature\n",
        "      im_nor = normallize(im_rgb)\n",
        "      im_clahe = clahe(im_nor)\n",
        "      test.append(im_clahe)\n",
        "      test_label.append(labels_dict[tagname])\n",
        "  test,test_label = shuffle(test,test_label)\n",
        "  return test, test_label"
      ],
      "execution_count": null,
      "outputs": []
    },
    {
      "cell_type": "code",
      "metadata": {
        "id": "S5MsIrLyRM4x"
      },
      "source": [
        "def split_train_val(tagname, i):\n",
        "  dataset_glaucoma = os.listdir(dataset_path1 + tagname)\n",
        "  val_index = 4-i\n",
        "  train = []\n",
        "  train_label = []\n",
        "  val = []\n",
        "  val_label = []\n",
        "  print(tagname)\n",
        "  for k in range(0,5):\n",
        "    if k == val_index :\n",
        "      image_file = os.listdir(dataset_path1 + tagname + '/' + str(k))\n",
        "      print(image_file)\n",
        "      for j,img in enumerate(image_file):\n",
        "        if j < number :\n",
        "          im = cv2.imread(dataset_path1 + tagname + '/' + str(k) + '/' + img)\n",
        "          im_rgb = cv2.cvtColor(im,cv2.COLOR_BGR2RGB)\n",
        "          im_rgb = np.array(im_rgb)\n",
        "          \n",
        "          # Feature\n",
        "          im_nor = normallize(im_rgb)\n",
        "          im_clahe = clahe(im_nor)\n",
        "          val.append(im_clahe)\n",
        "          val_label.append(labels_dict[tagname])\n",
        "    else:\n",
        "      image_file = os.listdir(dataset_path1 + tagname + '/' + str(k))\n",
        "      print(image_file)\n",
        "      for j,img in enumerate(image_file):\n",
        "        if j < number :\n",
        "          im = cv2.imread(dataset_path1 + tagname + '/' + str(k) + '/' + img)\n",
        "          im_rgb = cv2.cvtColor(im,cv2.COLOR_BGR2RGB)\n",
        "          im_rgb = np.array(im_rgb)\n",
        "\n",
        "          # Feature\n",
        "          im_nor = normallize(im_rgb)\n",
        "          im_clahe = clahe(im_nor)\n",
        "          train.append(im_clahe)\n",
        "          train_label.append(labels_dict[tagname])\n",
        "\n",
        "  return train, train_label, val, val_label"
      ],
      "execution_count": null,
      "outputs": []
    },
    {
      "cell_type": "code",
      "metadata": {
        "id": "gJ6dLk9PRNx-"
      },
      "source": [
        "def shuffle(data, label):\n",
        "  new_data = []\n",
        "  new_label = []\n",
        "  index = [i for i in range(len(data))]\n",
        "  np.random.shuffle(index)\n",
        "  for i in range(len(data)):\n",
        "\n",
        "\n",
        "\n",
        "    new_data.append(data[index[i]])\n",
        "    new_label.append(label[index[i]])\n",
        "    \n",
        "\n",
        "  new_data = np.array(new_data)\n",
        "  new_label = np.array(new_label)\n",
        "  n_classes = 3\n",
        "  new_label = keras.utils.to_categorical(new_label, n_classes)\n",
        "\n",
        "  return new_data, new_label\n",
        "  \n"
      ],
      "execution_count": null,
      "outputs": []
    },
    {
      "cell_type": "code",
      "metadata": {
        "id": "p9dgZTOqRQBu"
      },
      "source": [
        "def sum_data(k):\n",
        "  file_name = os.listdir(dataset_path1)\n",
        "  train = []\n",
        "  train_label = []\n",
        "  val = []\n",
        "  val_label = []\n",
        "  for name in file_name:\n",
        "    print(name)\n",
        "    train_name, train_name_label, val_name, val_name_label = split_train_val(name, k)\n",
        "    train.extend(train_name)\n",
        "    train_label.extend(train_name_label)\n",
        "    val.extend(val_name)\n",
        "    val_label.extend(val_name_label)\n",
        "  return train, train_label, val, val_label"
      ],
      "execution_count": null,
      "outputs": []
    },
    {
      "cell_type": "code",
      "metadata": {
        "id": "0FK-has2RR77"
      },
      "source": [
        "import seaborn as sns\n",
        "from sklearn.metrics import confusion_matrix, multilabel_confusion_matrix\n",
        "def confusion(y_test,pred) :\n",
        "    label_name = ['Gluacoma', 'Normal', 'Others']\n",
        "    #Confusion Matrix\n",
        "    %matplotlib inline \n",
        "\n",
        "    confusion_mat1 = confusion_matrix(y_test.argmax(axis=1), pred.argmax(axis=1))\n",
        "    print(confusion_mat1)\n",
        "    sns.heatmap(confusion_mat1,annot=True,linewidths=1, fmt = 'd')\n",
        "\n",
        "\n",
        "    plt.show()\n",
        "    return confusion_mat1\n"
      ],
      "execution_count": null,
      "outputs": []
    },
    {
      "cell_type": "code",
      "metadata": {
        "id": "0UeFHBOLRT3f"
      },
      "source": [
        "def extract_features(image):\n",
        "    fd, hog_image = hog(image, orientations=8, pixels_per_cell=(16, 16), cells_per_block=(1, 1), visualize=True)\n",
        "    hog_image = hog_image.mean(axis=0)\n",
        "\n",
        "    return hog_image"
      ],
      "execution_count": null,
      "outputs": []
    },
    {
      "cell_type": "code",
      "metadata": {
        "id": "5dey8zfCRWHL"
      },
      "source": [
        "from sklearn.svm import SVC\n",
        "from sklearn.neighbors import KNeighborsClassifier\n",
        "import keras\n",
        "\n",
        "def vgg_model(X_train_recv, y_train_recv, X_val_recv, y_val_recv, r) :\n",
        "\n",
        "\n",
        "    INIT_LR = 1e-3 # 1e-3 -- 1e-4\n",
        "    EPOCHS = 15\n",
        "    opt = Adam(lr=INIT_LR, decay=INIT_LR / EPOCHS)\n",
        "\n",
        "    vgg_model = VGG16(weights=\"imagenet\", \n",
        "                             include_top= False,\n",
        "                             input_tensor=Input(shape=(224, 224,3)))\n",
        "    \n",
        "    for layer in vgg_model.layers:\n",
        "        layer.trainable = False\n",
        "    \n",
        "    new_model = vgg_model.output\n",
        "    new_model = AveragePooling2D(pool_size=(7, 7))(new_model)\n",
        "    new_model = Flatten(name=\"flatten\")(new_model)\n",
        "    new_model = Dense(128, activation=\"relu\")(new_model)\n",
        "    new_model = Dropout(0.4)(new_model)\n",
        "    new_model = Dense(3, activation=\"softmax\")(new_model)\n",
        "    model = Model(inputs=vgg_model.input, outputs=new_model)\n",
        "\n",
        "    model.compile(\n",
        "        # optimizer='adam', \n",
        "                  optimizer = opt,\n",
        "                          loss='categorical_crossentropy',\n",
        "                          metrics=['accuracy'])\n",
        "\n",
        "    #train Model \n",
        "    print(\"Wait for Trainning\")\n",
        "    \n",
        "    history = model.fit(\n",
        "        X_train_recv, # input\n",
        "        y_train_recv, # output\n",
        "        batch_size=32,\n",
        "        verbose=1, \n",
        "        epochs=EPOCHS,\n",
        "        validation_data=(X_val_recv, y_val_recv),\n",
        "    ) \n",
        "\n",
        "    filename = 'model_'+ str(r) +'.h5'\n",
        "    model.save('/content/drive/MyDrive/Ai/ModelDeep/R5/' +filename)\n",
        "    print(\"Already Saved Model\")\n",
        "\n",
        "    y_pred = model.predict(X_val_recv)\n",
        "\n",
        "\n",
        "    %matplotlib inline \n",
        "    print(\"Confusion matrix\")\n",
        "    confusion(y_val_recv,y_pred)\n",
        "  \n",
        "    fpr_sav = []\n",
        "    tpr_sav = []\n",
        "    acc_sav = []\n",
        "    for oyah in range(0,3) :\n",
        "\n",
        "      fpr, tpr, thresholds = roc_curve(y_val_recv[:,oyah], y_pred[:,oyah])\n",
        "      roc_auc = metrics.auc(fpr, tpr)\n",
        "      fpr_sav.append(fpr)\n",
        "      tpr_sav.append(tpr)\n",
        "      acc_sav.append(roc_auc)\n",
        "\n",
        "    return fpr_sav, tpr_sav, acc_sav"
      ],
      "execution_count": null,
      "outputs": []
    },
    {
      "cell_type": "code",
      "metadata": {
        "id": "ejvlybtQR2_G"
      },
      "source": [
        "def roc(fpr_recv,tpr_recv,acc_recv,num=5) :\n",
        "#     stck_auc = []\n",
        "    color = [\"orange\",\"green\",\"blue\",\"red\",\"purple\"]\n",
        "    for i in range(num):\n",
        "        # print(i)\n",
        "        fpr_use = fpr_recv[i]\n",
        "        tpr_use = tpr_recv[i]\n",
        "        acc_use = acc_recv[i]\n",
        "\n",
        "        \n",
        "        plt.plot(fpr_use, tpr_use, color='{}'.format(color[i]), label='AUC Fold %d: %0.4f' %(i,acc_use))\n",
        "        plt.plot([0, 1], [0, 1], color='darkblue', linestyle='--')\n",
        "        plt.xlabel('False Positive Rate')\n",
        "        plt.ylabel('True Positive Rate')\n",
        "        plt.title('Receiver Operating Characteristic (ROC) Curve')\n",
        "        plt.legend()\n",
        "    plt.show()"
      ],
      "execution_count": null,
      "outputs": []
    },
    {
      "cell_type": "code",
      "metadata": {
        "id": "qQPEoRcLR6pB"
      },
      "source": [
        "# import รูปภาพจาก dataset\n",
        "fpr_all = []\n",
        "tpr_all = []\n",
        "acc_all = []\n",
        "for i in range(0,5):\n",
        "  # Round 1 use 4 to val\n",
        "  # Round 2 use 3 to val\n",
        "  # Round 3 use 2 to val\n",
        "  # Round 4 use 1 to val\n",
        "  # Round 5 use 0 to val\n",
        "  train_data, train_label, val_data, val_label = sum_data(i) \n",
        "  print(len(train_data), len(train_label), len(val_data), len(val_label))\n",
        "  train_data, train_label = shuffle(train_data,train_label)\n",
        "  val_data, val_label = shuffle(val_data,val_label)\n",
        "  print(len(train_data), len(train_label), len(val_data), len(val_label))\n",
        "  print(train_data.shape, train_label.shape, val_data.shape, val_label.shape)\n",
        "  ## Model\n",
        "  # Roc curve ของ 3 classes\n",
        "  fpr, tpr, acc = vgg_model(train_data, train_label, val_data, val_label, i)\n",
        "  fpr_all.append(fpr)\n",
        "  tpr_all.append(tpr)\n",
        "  acc_all.append(acc)\n",
        "\n",
        "fpr_all = np.array(fpr_all)\n",
        "tpr_all = np.array(tpr_all)\n",
        "acc_all = np.array(acc_all)\n",
        "for u in range(3):\n",
        "  print(\"Graph Class \", str(u))\n",
        "  roc(fpr_all[:,u], tpr_all[:,u], acc_all[:,u])"
      ],
      "execution_count": null,
      "outputs": []
    },
    {
      "cell_type": "code",
      "metadata": {
        "id": "4Dx9M0q9R9PQ"
      },
      "source": [
        "import numpy as np\n",
        "import cv2\n",
        "import matplotlib.pyplot as plt\n",
        "\n",
        "from sklearn import svm, datasets\n",
        "from sklearn.model_selection import train_test_split\n",
        "from sklearn.metrics import plot_confusion_matrix\n",
        "from sklearn.metrics import multilabel_confusion_matrix\n",
        "from sklearn import metrics\n",
        "# Python script for confusion matrix creation. \n",
        "from sklearn.metrics import accuracy_score \n",
        "from sklearn.metrics import classification_report \n",
        "from sklearn.metrics import confusion_matrix\n",
        "%matplotlib inline\n"
      ],
      "execution_count": null,
      "outputs": []
    },
    {
      "cell_type": "code",
      "metadata": {
        "id": "T7ft5YmwSati",
        "colab": {
          "base_uri": "https://localhost:8080/",
          "height": 403
        },
        "outputId": "f9a031a3-e310-4f83-93d2-ce271dd5cc3d"
      },
      "source": [
        "# load the model from disk\n",
        "filename = \"/content/drive/MyDrive/Ai/ModelDeep/R5/model_1.h5\"\n",
        "X_test, Y_test = get_test()\n",
        "\n",
        "print(X_test.shape, Y_test.shape)\n",
        "\n",
        "INIT_LR = 1e-3 # 1e-3 -- 1e-4\n",
        "EPOCHS = 15\n",
        "opt = Adam(lr=INIT_LR, decay=INIT_LR / EPOCHS)\n",
        "\n",
        "model_load = keras.models.load_model(filename)\n",
        "model_load.compile(\n",
        "    # optimizer='adam',\n",
        "    optimizer = opt,\n",
        "                          loss='categorical_crossentropy',\n",
        "                          metrics=['accuracy'])\n",
        "pred_test = model_load.predict(X_test)\n",
        "score = model_load.evaluate(X_test, Y_test, verbose=0)\n",
        "print(f\"Score: {score[1] * 100}\")\n",
        "confusion(Y_test, pred_test)\n",
        "\n"
      ],
      "execution_count": null,
      "outputs": [
        {
          "output_type": "stream",
          "text": [
            "(294, 224, 224, 3) (294, 3)\n",
            "Score: 80.61224222183228\n",
            "[[100  22   3]\n",
            " [ 30  69   0]\n",
            " [  2   0  68]]\n"
          ],
          "name": "stdout"
        },
        {
          "output_type": "display_data",
          "data": {
            "image/png": "[encoded data removed]",
            "text/plain": [
              "<Figure size 432x288 with 2 Axes>"
            ]
          },
          "metadata": {
            "tags": [],
            "needs_background": "light"
          }
        },
        {
          "output_type": "execute_result",
          "data": {
            "text/plain": [
              "array([[100,  22,   3],\n",
              "       [ 30,  69,   0],\n",
              "       [  2,   0,  68]])"
            ]
          },
          "metadata": {
            "tags": []
          },
          "execution_count": 15
        }
      ]
    },
    {
      "cell_type": "code",
      "metadata": {
        "id": "U8YDjVo6SblP"
      },
      "source": [
        "print(f\"Score: {score[1] * 100}\")\n",
        "print('Test loss:', score[0]) \n",
        "print('Test accuracy:', score[1])"
      ],
      "execution_count": null,
      "outputs": []
    },
    {
      "cell_type": "code",
      "metadata": {
        "id": "DZCVt6_UVSb5",
        "colab": {
          "base_uri": "https://localhost:8080/",
          "height": 689
        },
        "outputId": "c31ae280-d974-4947-e37b-64f87a4ae02f"
      },
      "source": [
        "#Confusion matrix, Accuracy, sensitivity and specificity\n",
        "from sklearn.metrics import confusion_matrix\n",
        "%matplotlib inline\n",
        "cm1 = confusion(Y_test,pred_test)\n",
        "\n",
        "print('Confusion Matrix : \\n', cm1)\n",
        "\n",
        "total = sum(sum(cm1))\n",
        "#####from confusion matrix calculate accuracy\n",
        "accuracy0=(cm1[0,0]+cm1[1,1]+cm1[2,2])/total\n",
        "print ('Accuracy : ', accuracy0)\n",
        "\n",
        "sensitivity0 = cm1[0,0]/(cm1[0,0]+cm1[1,0]+cm1[2,0])\n",
        "print('Sensitivity Class 0: ', sensitivity0 )\n",
        "\n",
        "specificity0 = (cm1[1,1]+cm1[2,2]+cm1[1,2]+cm1[2,1])/(cm1[1,0]+cm1[1,1]+cm1[1,2]+cm1[2,0]+cm1[2,1]+cm1[2,2])\n",
        "print('Specificity Class 0: ', specificity0)\n",
        "\n",
        "sensitivity1 = cm1[1,1]/(cm1[1,1]+cm1[0,1]+cm1[2,1])\n",
        "print('Sensitivity Class 1: ', sensitivity1)\n",
        "\n",
        "specificity1 = (cm1[0,0]+cm1[0,2]+cm1[2,0]+cm1[2,2])/(cm1[0,0]+cm1[0,2]+cm1[2,0]+cm1[2,2]+cm1[0,1]+cm1[2,1])\n",
        "print('Specificity Class 1: ', specificity1)\n",
        "\n",
        "sensitivity2 = cm1[2,2]/(cm1[2,2]+cm1[0,2]+cm1[1,2])\n",
        "print('Sensitivity Class 2: ', sensitivity2)\n",
        "\n",
        "specificity2 = (cm1[0,0]+cm1[0,1]+cm1[1,0]+cm1[1,1])/(cm1[0,0]+cm1[0,1]+cm1[1,0]+cm1[1,1]+cm1[2,0]+cm1[2,1])\n",
        "print('Specificity Class 2: ', specificity2)\n",
        "\n",
        "print( 'Report : ')\n",
        "print(classification_report(Y_test.argmax(axis=1), pred_test.argmax(axis=1),digits=4))"
      ],
      "execution_count": null,
      "outputs": [
        {
          "output_type": "stream",
          "text": [
            "[[100  22   3]\n",
            " [ 30  69   0]\n",
            " [  2   0  68]]\n"
          ],
          "name": "stdout"
        },
        {
          "output_type": "display_data",
          "data": {
            "image/png": "[encoded data removed]",
            "text/plain": [
              "<Figure size 432x288 with 2 Axes>"
            ]
          },
          "metadata": {
            "tags": [],
            "needs_background": "light"
          }
        },
        {
          "output_type": "stream",
          "text": [
            "Confusion Matrix : \n",
            " [[100  22   3]\n",
            " [ 30  69   0]\n",
            " [  2   0  68]]\n",
            "Accuracy :  0.8061224489795918\n",
            "Sensitivity Class 0:  0.7575757575757576\n",
            "Specificity Class 0:  0.8106508875739645\n",
            "Sensitivity Class 1:  0.7582417582417582\n",
            "Specificity Class 1:  0.8871794871794871\n",
            "Sensitivity Class 2:  0.9577464788732394\n",
            "Specificity Class 2:  0.9910313901345291\n",
            "Report : \n",
            "              precision    recall  f1-score   support\n",
            "\n",
            "           0     0.7576    0.8000    0.7782       125\n",
            "           1     0.7582    0.6970    0.7263        99\n",
            "           2     0.9577    0.9714    0.9645        70\n",
            "\n",
            "    accuracy                         0.8061       294\n",
            "   macro avg     0.8245    0.8228    0.8230       294\n",
            "weighted avg     0.8055    0.8061    0.8051       294\n",
            "\n"
          ],
          "name": "stdout"
        }
      ]
    }
  ]
}