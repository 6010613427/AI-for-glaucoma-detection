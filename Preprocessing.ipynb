{
  "nbformat": 4,
  "nbformat_minor": 0,
  "metadata": {
    "colab": {
      "name": "Preprocessing.ipynb",
      "provenance": [],
      "collapsed_sections": []
    },
    "kernelspec": {
      "name": "python3",
      "display_name": "Python 3"
    },
    "language_info": {
      "name": "python"
    }
  },
  "cells": [
    {
      "cell_type": "code",
      "metadata": {
        "colab": {
          "base_uri": "https://localhost:8080/"
        },
        "id": "2ULdnc2qmHUI",
        "outputId": "1f13d295-6807-4606-e477-dee178994535"
      },
      "source": [
        "from google.colab import drive\n",
        "drive.mount('/content/drive')"
      ],
      "execution_count": null,
      "outputs": [
        {
          "output_type": "stream",
          "text": [
            "Mounted at /content/drive\n"
          ],
          "name": "stdout"
        }
      ]
    },
    {
      "cell_type": "code",
      "metadata": {
        "id": "51oPAXRr3UYw"
      },
      "source": [
        "from pathlib import Path\n",
        "import matplotlib.pyplot as plt\n",
        "import numpy as np\n",
        "%matplotlib inline \n",
        "%matplotlib notebook\n",
        "import sklearn\n",
        "import skimage\n",
        "from sklearn import svm, metrics, datasets\n",
        "from sklearn.utils import Bunch\n",
        "from sklearn.model_selection import GridSearchCV, train_test_split\n",
        "\n",
        "import os\n",
        "from skimage.transform import resize\n",
        "import pylab\n",
        "\n",
        "\n",
        "from scipy import ndimage, misc\n",
        "\n",
        "import cv2"
      ],
      "execution_count": null,
      "outputs": []
    },
    {
      "cell_type": "code",
      "metadata": {
        "id": "swvCF6KIvlgh"
      },
      "source": [
        "# เปิดโฟลเดอร์จาก google drive นะ\n",
        "main_folder_path = \"/content/drive/MyDrive/Ai/Dataset/\"\n",
        "save_folder_path = \"/content/drive/MyDrive/Ai/Dataset1/\"\n",
        "main_folder = os.listdir(main_folder_path)\n",
        "save_folder = os.listdir(save_folder_path)"
      ],
      "execution_count": null,
      "outputs": []
    },
    {
      "cell_type": "markdown",
      "metadata": {
        "id": "bLpFSpPPwFa5"
      },
      "source": [
        "# Preprocess"
      ]
    },
    {
      "cell_type": "code",
      "metadata": {
        "colab": {
          "base_uri": "https://localhost:8080/"
        },
        "id": "HhC3dADDwM8s",
        "outputId": "5d9e5185-d871-4d76-f439-3ba3acb766bf"
      },
      "source": [
        "i = 0\n",
        "j = 0\n",
        "for sub_folder in main_folder:\n",
        "    print(sub_folder)\n",
        "    # gluacoma, normal, other\n",
        "    list_folder = os.listdir(main_folder_path+sub_folder)\n",
        "    count_f = 0\n",
        "    for image_folder in list_folder:\n",
        "      print(image_folder)\n",
        "      # subfolder in gluacoma , normal , others\n",
        "      list_image = os.listdir(main_folder_path+sub_folder+'/'+image_folder)\n",
        "      j = int(len(list_image)/5) if len(list_image) % 5 == 0 else int(len(list_image)/5) + 1\n",
        "      print(list_folder,len(list_image), j )\n",
        "      i = 0\n",
        "      count = 0\n",
        "      # count_f = 0\n",
        "      for k, image in enumerate(list_image) :\n",
        "        # Contour\n",
        "        im = cv2.imread(main_folder_path+sub_folder+'/'+image_folder+'/'+image)\n",
        "        im_rgb = cv2.cvtColor(im,cv2.COLOR_BGR2RGB)\n",
        "        w_real, h_real, _ = np.array(im_rgb).shape\n",
        "\n",
        "        # Contour -> หาเส้นรอบวง\n",
        "        im_gr = cv2.cvtColor(im,cv2.COLOR_BGR2GRAY) # แปลงเป็นขาวดำ\n",
        "        _, im_thr = cv2.threshold(im_gr,10,255,0)\n",
        "        # หาเส้นเค้าโครง\n",
        "        contour, _ = cv2.findContours(im_thr,cv2.RETR_LIST,cv2.CHAIN_APPROX_SIMPLE)\n",
        "        max_contour = np.argmax([len(i) for i in contour])\n",
        "        con = im_rgb\n",
        "        x,y,w,h = cv2.boundingRect(contour[max_contour])\n",
        "        # print(w,h)\n",
        "        if w >= h :\n",
        "          w_cat = w\n",
        "          h_plus = w-h\n",
        "          con = con[y:y+w, x:x+w]\n",
        "          if w > w_real:\n",
        "            img_plus = np.zeros([int(h_plus/2),w_cat,3],dtype=np.uint8)\n",
        "            img_plus.fill(0)\n",
        "            con = np.concatenate((img_plus[:None],con,img_plus[:None]),axis = 0) #0 short edge, 1 long edge\n",
        "        else :\n",
        "          w_cat = h-w\n",
        "          h_plus = h\n",
        "          con = con[y:y+h, x:x+h]\n",
        "        # Resized\n",
        "        im_resized = cv2.resize(con, (224,224))\n",
        "        if count < j-1 and k < len(list_image) - 1:\n",
        "          cv2.imwrite(f\"/content/drive/MyDrive/Ai/Dataset1/{sub_folder}/{i}/{image[:-4]}.png\", cv2.cvtColor(im_resized, cv2.COLOR_BGR2RGB))\n",
        "          count += 1\n",
        "          count_f += 1\n",
        "        else :\n",
        "          cv2.imwrite(f\"/content/drive/MyDrive/Ai/Dataset1/{sub_folder}/{i}/{image[:-4]}.png\", cv2.cvtColor(im_resized, cv2.COLOR_BGR2RGB))\n",
        "          count += 1\n",
        "          count_f += 1\n",
        "          i += 1\n",
        "          print(count, k+1)\n",
        "          count = 0\n",
        "      print(count_f)"
      ],
      "execution_count": null,
      "outputs": [
        {
          "output_type": "stream",
          "text": [
            "Normal\n",
            "ORIGA\n",
            "['ORIGA', 'UniOfErlangen-Nuremberg', 'Kaggle', 'Orange-IEEE-Dataport'] 482 97\n",
            "97 97\n",
            "97 194\n",
            "97 291\n",
            "97 388\n",
            "94 482\n",
            "482\n",
            "UniOfErlangen-Nuremberg\n",
            "['ORIGA', 'UniOfErlangen-Nuremberg', 'Kaggle', 'Orange-IEEE-Dataport'] 15 3\n",
            "3 3\n",
            "3 6\n",
            "3 9\n",
            "3 12\n",
            "3 15\n",
            "497\n",
            "Kaggle\n",
            "['ORIGA', 'UniOfErlangen-Nuremberg', 'Kaggle', 'Orange-IEEE-Dataport'] 38 8\n",
            "8 8\n",
            "8 16\n",
            "8 24\n",
            "8 32\n",
            "6 38\n",
            "535\n",
            "Orange-IEEE-Dataport\n",
            "['ORIGA', 'UniOfErlangen-Nuremberg', 'Kaggle', 'Orange-IEEE-Dataport'] 188 38\n",
            "38 38\n",
            "38 76\n",
            "38 114\n",
            "38 152\n",
            "36 188\n",
            "723\n",
            "Gluacoma\n",
            "Technische_Fakultat\n",
            "['Technische_Fakultat', 'BinRushed2', 'BinRushed3', 'BinRushed4', 'MagrabiaFemale', 'MagrabiaMale', 'BinRushed1', 'ORIGA', 'MessidorPrime'] 15 3\n",
            "3 3\n",
            "3 6\n",
            "3 9\n",
            "3 12\n",
            "3 15\n",
            "15\n",
            "BinRushed2\n",
            "['Technische_Fakultat', 'BinRushed2', 'BinRushed3', 'BinRushed4', 'MagrabiaFemale', 'MagrabiaMale', 'BinRushed1', 'ORIGA', 'MessidorPrime'] 47 10\n",
            "10 10\n",
            "10 20\n",
            "10 30\n",
            "10 40\n",
            "7 47\n",
            "62\n",
            "BinRushed3\n",
            "['Technische_Fakultat', 'BinRushed2', 'BinRushed3', 'BinRushed4', 'MagrabiaFemale', 'MagrabiaMale', 'BinRushed1', 'ORIGA', 'MessidorPrime'] 47 10\n",
            "10 10\n",
            "10 20\n",
            "10 30\n",
            "10 40\n",
            "7 47\n",
            "109\n",
            "BinRushed4\n",
            "['Technische_Fakultat', 'BinRushed2', 'BinRushed3', 'BinRushed4', 'MagrabiaFemale', 'MagrabiaMale', 'BinRushed1', 'ORIGA', 'MessidorPrime'] 51 11\n",
            "11 11\n",
            "11 22\n",
            "11 33\n",
            "11 44\n",
            "7 51\n",
            "160\n",
            "MagrabiaFemale\n",
            "['Technische_Fakultat', 'BinRushed2', 'BinRushed3', 'BinRushed4', 'MagrabiaFemale', 'MagrabiaMale', 'BinRushed1', 'ORIGA', 'MessidorPrime'] 47 10\n",
            "10 10\n",
            "10 20\n",
            "10 30\n",
            "10 40\n",
            "7 47\n",
            "207\n",
            "MagrabiaMale\n",
            "['Technische_Fakultat', 'BinRushed2', 'BinRushed3', 'BinRushed4', 'MagrabiaFemale', 'MagrabiaMale', 'BinRushed1', 'ORIGA', 'MessidorPrime'] 47 10\n",
            "10 10\n",
            "10 20\n",
            "10 30\n",
            "10 40\n",
            "7 47\n",
            "254\n",
            "BinRushed1\n",
            "['Technische_Fakultat', 'BinRushed2', 'BinRushed3', 'BinRushed4', 'MagrabiaFemale', 'MagrabiaMale', 'BinRushed1', 'ORIGA', 'MessidorPrime'] 50 10\n",
            "10 10\n",
            "10 20\n",
            "10 30\n",
            "10 40\n",
            "10 50\n",
            "304\n",
            "ORIGA\n",
            "['Technische_Fakultat', 'BinRushed2', 'BinRushed3', 'BinRushed4', 'MagrabiaFemale', 'MagrabiaMale', 'BinRushed1', 'ORIGA', 'MessidorPrime'] 168 34\n",
            "34 34\n",
            "34 68\n",
            "34 102\n",
            "34 136\n",
            "32 168\n",
            "472\n",
            "MessidorPrime\n",
            "['Technische_Fakultat', 'BinRushed2', 'BinRushed3', 'BinRushed4', 'MagrabiaFemale', 'MagrabiaMale', 'BinRushed1', 'ORIGA', 'MessidorPrime'] 460 92\n",
            "92 92\n",
            "92 184\n",
            "92 276\n",
            "92 368\n",
            "92 460\n",
            "932\n",
            "Others\n",
            "Diabetes\n",
            "['Diabetes', 'Myopia', 'Other', 'Hypertension', 'Age'] 187 38\n",
            "38 38\n",
            "38 76\n",
            "38 114\n",
            "38 152\n",
            "35 187\n",
            "187\n",
            "Myopia\n",
            "['Diabetes', 'Myopia', 'Other', 'Hypertension', 'Age'] 136 28\n",
            "28 28\n",
            "28 56\n",
            "28 84\n",
            "28 112\n",
            "24 136\n",
            "323\n",
            "Other\n",
            "['Diabetes', 'Myopia', 'Other', 'Hypertension', 'Age'] 145 29\n",
            "29 29\n",
            "29 58\n",
            "29 87\n",
            "29 116\n",
            "29 145\n",
            "468\n",
            "Hypertension\n",
            "['Diabetes', 'Myopia', 'Other', 'Hypertension', 'Age'] 62 13\n",
            "13 13\n",
            "13 26\n",
            "13 39\n",
            "13 52\n",
            "10 62\n",
            "530\n",
            "Age\n",
            "['Diabetes', 'Myopia', 'Other', 'Hypertension', 'Age'] 174 35\n",
            "35 35\n",
            "35 70\n",
            "35 105\n",
            "35 140\n",
            "34 174\n",
            "704\n"
          ],
          "name": "stdout"
        }
      ]
    },
    {
      "cell_type": "code",
      "metadata": {
        "id": "COG4TqkBxDrG"
      },
      "source": [
        "for sub_folder in save_folder:\n",
        "    # print(sub_folder)\n",
        "    # gluacoma, normal, other\n",
        "    list_folder = os.listdir(save_folder_path+'/'+sub_folder)\n",
        "    for image_folder in list_folder:\n",
        "      # print(image_folder)\n",
        "      # subfolder in gluacoma , normal , others\n",
        "      list_image = os.listdir(save_folder_path+sub_folder+'/'+image_folder)\n",
        "      print(f\"{sub_folder}/{image_folder}\",len(list_image))"
      ],
      "execution_count": null,
      "outputs": []
    },
    {
      "cell_type": "code",
      "metadata": {
        "id": "Cf-4aqT1xHZk",
        "colab": {
          "base_uri": "https://localhost:8080/"
        },
        "outputId": "e723725c-9162-47f1-f3db-a8e6a72d52d3"
      },
      "source": [
        "glucoma_folder = os.listdir(\"/content/drive/MyDrive/Ai/Testset/Gluacoma/\")\n",
        "print(len(glucoma_folder))"
      ],
      "execution_count": null,
      "outputs": [
        {
          "output_type": "stream",
          "text": [
            "94\n"
          ],
          "name": "stdout"
        }
      ]
    },
    {
      "cell_type": "code",
      "metadata": {
        "id": "r5tyRTvZ_5Qm"
      },
      "source": [
        "def clahe(img_in):\n",
        "  def clahe(img_in):\n",
        "  #img_in = cv2.cvtColor(img_in, cv2.COLOR_BGR2GRAY)\n",
        "  equ = cv.equalizeHist(img_in)\n",
        "  res = np.hstack((img_in,equ))\n",
        "  im_clahe = cv2.createCLAHE(clipLimit=2.0, tileGridSize=(8,8))\n",
        "  im_clahe.apply(equ)\n",
        "  plt.imshow(res)\n",
        "  return im_clahe\n"
      ],
      "execution_count": null,
      "outputs": []
    },
    {
      "cell_type": "code",
      "metadata": {
        "id": "86_uwLDTycZQ"
      },
      "source": [
        "%matplotlib inline \n",
        "for i, img in enumerate(glucoma_folder):\n",
        "  if img == \"Gluacoma_1427.png\":\n",
        "    im = cv2.imread(f\"/content/drive/MyDrive/Ai/Testset/Gluacoma/{img}\")\n",
        "    im_rgb = cv2.cvtColor(im,cv2.COLOR_BGR2RGB)\n",
        "    im_rgb = np.array(im_rgb)\n",
        "    im_gry = cv2.cvtColor(im_rgb,cv2.COLOR_RGB2GRAY)\n",
        "    im_gry = np.array(im_gry)\n",
        "\n",
        "    # Feature\n",
        "    im_clahe = clahe(im_gry)\n",
        "\n",
        "    im_gr = cv2.cvtColor(im,cv2.COLOR_BGR2GRAY) # แปลงเป็นขาวดำ\n",
        "    _, im_thr = cv2.threshold(im_gr,10,255,0)\n",
        "    # หาเส้นเค้าโครง\n",
        "    contour, _ = cv2.findContours(im_thr,cv2.RETR_LIST,cv2.CHAIN_APPROX_SIMPLE)\n",
        "    print(len(contour))\n",
        "\n",
        "    max_contour = np.argmax([len(i) for i in contour])\n",
        "    con_t = cv2.drawContours(im_rgb,contour,max_contour, (0,200,0), 5)\n",
        "\n",
        "    x,y,w,h = cv2.boundingRect(contour[max_contour])\n",
        "    print(w,h)\n",
        "    if w >= h :\n",
        "      w_cat = w\n",
        "      h_plus = w-h\n",
        "      con = con_t[y:y+w, x:x+w]\n",
        "      if w > w_real:\n",
        "        img_plus = np.zeros([int(h_plus/2),w_cat,3],dtype=np.uint8)\n",
        "        img_plus.fill(0)\n",
        "        print(con.shape, img_plus.shape)\n",
        "        con = np.concatenate((img_plus[:None],con,img_plus[:None]),axis = 0) #0 short edge, 1 long edge\n",
        "    else :\n",
        "      w_cat = h-w\n",
        "      h_plus = h\n",
        "      con = con_t[y:y+h, x:x+h]\n",
        "\n",
        "\n",
        "    im_resized = cv2.resize(con, (224,224))\n",
        "    plt.imshow(im_gry)\n",
        "\n"
      ],
      "execution_count": null,
      "outputs": []
    }
  ]
}